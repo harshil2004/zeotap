{
 "cells": [
  {
   "cell_type": "code",
   "execution_count": 29,
   "metadata": {},
   "outputs": [],
   "source": [
    "import pandas as pd\n",
    "from sklearn.feature_extraction.text import TfidfVectorizer\n",
    "from sklearn.metrics.pairwise import cosine_similarity\n",
    "import numpy as np\n",
    "import matplotlib.pyplot as plt"
   ]
  },
  {
   "cell_type": "code",
   "execution_count": 30,
   "metadata": {},
   "outputs": [],
   "source": [
    "# Load Data\n",
    "\n",
    "customers = pd.read_csv('Customers.csv')\n",
    "products = pd.read_csv('Products.csv')\n",
    "transactions = pd.read_csv('Transactions.csv')"
   ]
  },
  {
   "cell_type": "code",
   "execution_count": 31,
   "metadata": {},
   "outputs": [],
   "source": [
    "# Merge customer and transaction data\n",
    "\n",
    "customer_transactions = pd.merge(transactions, customers, on='CustomerID', how='left')\n",
    "customer_products = pd.merge(customer_transactions, products, on='ProductID', how='left')\n",
    "\n",
    "customer_profiles = customer_products.groupby('CustomerID').agg({\n",
    "    'ProductName': lambda x: ' '.join(x),  # Combine product names\n",
    "    'Category': lambda x: ' '.join(x)     # Combine categories\n",
    "}).reset_index()\n"
   ]
  },
  {
   "cell_type": "code",
   "execution_count": 5,
   "metadata": {},
   "outputs": [],
   "source": [
    "# Concatenate product names and categories for a complete profile\n",
    "# Vectorize the combined profiles using TF-IDF\n",
    "# Compute cosine similarity between customers\n",
    "\n",
    "customer_profiles['CombinedProfile'] = customer_profiles['ProductName'] + ' ' + customer_profiles['Category']\n",
    "vectorizer = TfidfVectorizer()\n",
    "tfidf_matrix = vectorizer.fit_transform(customer_profiles['CombinedProfile'])\n",
    "\n",
    "similarity_matrix = cosine_similarity(tfidf_matrix, tfidf_matrix)"
   ]
  },
  {
   "cell_type": "code",
   "execution_count": 8,
   "metadata": {},
   "outputs": [],
   "source": [
    "# Function to get top 3 similar customers for each customer\n",
    "\n",
    "def get_top_3_similar(customer_index, similarity_matrix, customer_ids):\n",
    "    similarities = similarity_matrix[customer_index]\n",
    "    similar_indices = similarities.argsort()[-4:-1][::-1] \n",
    "    return [(customer_ids[i], similarities[i]) for i in similar_indices]"
   ]
  },
  {
   "cell_type": "code",
   "execution_count": 14,
   "metadata": {},
   "outputs": [],
   "source": [
    "# Generate recommendations for the first 20 customers\n",
    "\n",
    "customer_ids = customer_profiles['CustomerID'].tolist()\n",
    "lookalike_results = {}\n",
    "\n",
    "for i, customer_id in enumerate(customer_ids[:20]):\n",
    "    lookalike_results[customer_id] = get_top_3_similar(i, similarity_matrix, customer_ids)"
   ]
  },
  {
   "cell_type": "code",
   "execution_count": 15,
   "metadata": {},
   "outputs": [],
   "source": [
    "# Convert results into a DF and save as CSV\n",
    "\n",
    "lookalike_df = pd.DataFrame([{'CustomerID': k, 'Lookalikes': v} for k, v in lookalike_results.items()])\n",
    "lookalike_df['Lookalikes'] = lookalike_df['Lookalikes'].apply(lambda x: [(cid, round(score, 2)) for cid, score in x])"
   ]
  },
  {
   "cell_type": "code",
   "execution_count": 18,
   "metadata": {},
   "outputs": [],
   "source": [
    "# Save Output\n",
    "\n",
    "lookalike_df.to_csv('Harshil_Ameta_Lookalike.csv', index=False)"
   ]
  },
  {
   "cell_type": "code",
   "execution_count": 17,
   "metadata": {},
   "outputs": [
    {
     "name": "stdout",
     "output_type": "stream",
     "text": [
      "  CustomerID                                     Lookalikes\n",
      "0      C0001  [(C0197, 0.85), (C0026, 0.76), (C0045, 0.75)]\n",
      "1      C0002  [(C0133, 0.92), (C0173, 0.77), (C0164, 0.73)]\n",
      "2      C0003  [(C0164, 0.79), (C0181, 0.72), (C0085, 0.69)]\n",
      "3      C0004  [(C0075, 0.77), (C0008, 0.77), (C0118, 0.77)]\n",
      "4      C0005    [(C0096, 0.8), (C0128, 0.71), (C0014, 0.7)]\n"
     ]
    }
   ],
   "source": [
    "\n",
    "print(lookalike_df.head())\n"
   ]
  },
  {
   "cell_type": "code",
   "execution_count": 19,
   "metadata": {},
   "outputs": [],
   "source": [
    "# Analyze similarity score distribution\n",
    "all_similarity_scores = [\n",
    "    score for recommendations in lookalike_results.values() for _, score in recommendations\n",
    "]"
   ]
  },
  {
   "cell_type": "code",
   "execution_count": 22,
   "metadata": {},
   "outputs": [
    {
     "name": "stdout",
     "output_type": "stream",
     "text": [
      "Similarity Score Statistics: {'mean': 0.7583015777721123, 'median': 0.7600693780929353, 'min': 0.6504907330370865, 'max': 0.9675058557057117, 'std': 0.060081823550248305}\n"
     ]
    }
   ],
   "source": [
    "# Calculate and display basic statistics for similarity scores\n",
    "score_stats = {\n",
    "    'mean': np.mean(all_similarity_scores),\n",
    "    'median': np.median(all_similarity_scores),\n",
    "    'min': np.min(all_similarity_scores),\n",
    "    'max': np.max(all_similarity_scores),\n",
    "    'std': np.std(all_similarity_scores)\n",
    "}\n",
    "print(\"Similarity Score Statistics:\", score_stats)\n"
   ]
  },
  {
   "cell_type": "code",
   "execution_count": 23,
   "metadata": {},
   "outputs": [
    {
     "data": {
      "image/png": "[encoded data removed]",
      "text/plain": [
       "<Figure size 800x500 with 1 Axes>"
      ]
     },
     "metadata": {},
     "output_type": "display_data"
    }
   ],
   "source": [
    "# Plot similarity score distribution\n",
    "plt.figure(figsize=(8, 5))\n",
    "plt.hist(all_similarity_scores, bins=15, color='skyblue', edgecolor='black')\n",
    "plt.title('Similarity Score Distribution')\n",
    "plt.xlabel('Similarity Score')\n",
    "plt.ylabel('Frequency')\n",
    "plt.grid(axis='y', linestyle='--', alpha=0.7)\n",
    "plt.show()\n"
   ]
  },
  {
   "cell_type": "code",
   "execution_count": 24,
   "metadata": {},
   "outputs": [],
   "source": [
    "# Qualitative analysis of recommendations\n",
    "# Function to extract a customer's profile for qualitative analysis\n",
    "# Randomly select a customer for qualitative analysis\n",
    "\n",
    "def get_customer_profile(customer_id, customer_profiles, customer_products):\n",
    "    profile = customer_profiles[customer_profiles['CustomerID'] == customer_id]\n",
    "    transactions = customer_products[customer_products['CustomerID'] == customer_id][['ProductName', 'Category']]\n",
    "    return profile, transactions\n",
    "\n",
    "random_customer_id = np.random.choice(list(lookalike_results.keys()))\n",
    "random_customer_recommendations = lookalike_results[random_customer_id]"
   ]
  },
  {
   "cell_type": "code",
   "execution_count": 26,
   "metadata": {},
   "outputs": [],
   "source": [
    "# Retrieve the original customer's profile and their recommendations\n",
    "original_profile, original_transactions = get_customer_profile(random_customer_id, customer_profiles, customer_products)\n",
    "recommendation_profiles = []\n",
    "recommendation_transactions = []\n",
    "for rec_id, score in random_customer_recommendations:\n",
    "    profile, transactions = get_customer_profile(rec_id, customer_profiles, customer_products)\n",
    "    recommendation_profiles.append((rec_id, score, profile))\n",
    "    recommendation_transactions.append((rec_id, transactions))"
   ]
  },
  {
   "cell_type": "code",
   "execution_count": 28,
   "metadata": {},
   "outputs": [
    {
     "name": "stdout",
     "output_type": "stream",
     "text": [
      "\n",
      "Qualitative Analysis for Customer: C0012\n",
      "Original Customer Transactions:\n",
      "                  ProductName     Category\n",
      "76    ActiveWear Cookware Set   Home Decor\n",
      "80    ActiveWear Cookware Set   Home Decor\n",
      "120  ComfortLiving Smartphone  Electronics\n",
      "210       HomeSense Desk Lamp   Home Decor\n",
      "247   ComfortLiving Biography        Books\n",
      "\n",
      "Recommendation - Customer C0136 (Similarity Score: 0.87):\n",
      "                    ProductName    Category\n",
      "89          BookWorld Biography       Books\n",
      "251     ComfortLiving Desk Lamp  Home Decor\n",
      "271  ComfortLiving Cookware Set  Home Decor\n",
      "362         ActiveWear Cookbook       Books\n",
      "446               SoundWave Rug  Home Decor\n",
      "\n",
      "Recommendation - Customer C0076 (Similarity Score: 0.81):\n",
      "                 ProductName    Category\n",
      "64               TechPro Rug  Home Decor\n",
      "75   ActiveWear Cookware Set  Home Decor\n",
      "260  ComfortLiving Desk Lamp  Home Decor\n",
      "334      ActiveWear Textbook       Books\n",
      "820    ComfortLiving Sweater    Clothing\n",
      "\n",
      "Recommendation - Customer C0059 (Similarity Score: 0.75):\n",
      "               ProductName     Category\n",
      "236    ActiveWear Wall Art   Home Decor\n",
      "281          TechPro Novel        Books\n",
      "548   SoundWave Headphones  Electronics\n",
      "818  ComfortLiving Sweater     Clothing\n",
      "898    HomeSense Desk Lamp   Home Decor\n"
     ]
    }
   ],
   "source": [
    "# Display qualitative analysis results\n",
    "print(\"\\nQualitative Analysis for Customer:\", random_customer_id)\n",
    "print(\"Original Customer Transactions:\")\n",
    "print(original_transactions.head())\n",
    "for rec_id, score, profile in recommendation_profiles:\n",
    "    print(f\"\\nRecommendation - Customer {rec_id} (Similarity Score: {round(score, 2)}):\")\n",
    "    print(recommendation_transactions[[r[0] for r in recommendation_transactions].index(rec_id)][1].head())"
   ]
  },
  {
   "cell_type": "code",
   "execution_count": null,
   "metadata": {},
   "outputs": [],
   "source": []
  }
 ],
 "metadata": {
  "kernelspec": {
   "display_name": "py3.9",
   "language": "python",
   "name": "python3"
  },
  "language_info": {
   "codemirror_mode": {
    "name": "ipython",
    "version": 3
   },
   "file_extension": ".py",
   "mimetype": "text/x-python",
   "name": "python",
   "nbconvert_exporter": "python",
   "pygments_lexer": "ipython3",
   "version": "3.9.18"
  }
 },
 "nbformat": 4,
 "nbformat_minor": 2
}
